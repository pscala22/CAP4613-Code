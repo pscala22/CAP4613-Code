{
  "cells": [
    {
      "cell_type": "markdown",
      "metadata": {
        "colab_type": "text",
        "id": "view-in-github"
      },
      "source": [
        "<a href=\"https://colab.research.google.com/github/pscala22/CAP4613-Code/blob/master/Assignment1.ipynb\" target=\"_parent\"><img src=\"https://colab.research.google.com/assets/colab-badge.svg\" alt=\"Open In Colab\"/></a>"
      ]
    },
    {
      "cell_type": "code",
      "execution_count": 6,
      "metadata": {
        "id": "ZGRDM1PSqhUi"
      },
      "outputs": [
        {
          "data": {
            "image/png": "[encoded data removed]",
            "text/plain": [
              "<Figure size 640x480 with 1 Axes>"
            ]
          },
          "metadata": {},
          "output_type": "display_data"
        }
      ],
      "source": [
        "#Problem 1a\n",
        "import matplotlib.pyplot as plt\n",
        "\n",
        "x = [0, 0, 1, 1]\n",
        "y = [0, 1, 0, 1]\n",
        "\n",
        "plt.scatter(x, y)\n",
        "plt.xlabel('x')\n",
        "plt.ylabel('y')\n",
        "plt.title('Input Data Samples')\n",
        "plt.show()"
      ]
    },
    {
      "cell_type": "code",
      "execution_count": 7,
      "metadata": {},
      "outputs": [],
      "source": [
        "#Problem #1b\n",
        "def and_operation(x, y):\n",
        "    if x == 1 and y == 1:\n",
        "        return 1\n",
        "    else:\n",
        "        return 0"
      ]
    },
    {
      "cell_type": "code",
      "execution_count": 8,
      "metadata": {},
      "outputs": [],
      "source": [
        "# Problem #1c\n",
        "def or_operation(x, y):\n",
        "    if x == 1 or y == 1:\n",
        "        return 1\n",
        "    else:\n",
        "        return 0\n",
        "\n",
        "def xor_operation(x, y):\n",
        "    if x != y:\n",
        "        return 1\n",
        "    else:\n",
        "        return 0"
      ]
    },
    {
      "cell_type": "code",
      "execution_count": 9,
      "metadata": {},
      "outputs": [],
      "source": [
        "#Problem #1d & Problem #1e  \n",
        "data = [(0, 0), (0, 1), (1, 0), (1, 1)]\n",
        "and_results = []\n",
        "or_results = []\n",
        "xor_results = []\n",
        "\n",
        "for x, y in data:\n",
        "    and_results.append(and_operation(x, y))\n",
        "    or_results.append(or_operation(x, y))\n",
        "    xor_results.append(xor_operation(x, y))"
      ]
    },
    {
      "cell_type": "code",
      "execution_count": 10,
      "metadata": {},
      "outputs": [
        {
          "name": "stdout",
          "output_type": "stream",
          "text": [
            "AND Results: [0, 0, 0, 1]\n",
            "OR Results: [0, 1, 1, 1]\n",
            "XOR Results: [0, 1, 1, 0]\n"
          ]
        }
      ],
      "source": [
        "#Problem #1f\n",
        "print(\"AND Results:\", and_results)\n",
        "print(\"OR Results:\", or_results)\n",
        "print(\"XOR Results:\", xor_results)"
      ]
    },
    {
      "cell_type": "code",
      "execution_count": 20,
      "metadata": {},
      "outputs": [],
      "source": [
        "#Problem #2a\n",
        "# Define the data samples\n",
        "C1 = [(2, 3), (3, 3), (3, 4), (1, 4), (4, 1), (4, 3)]\n",
        "C2 = [(0, 0), (0, 3), (1, 1), (1, 2), (2, 1), (2, 2)]\n",
        "\n",
        "# Plot the data samples\n",
        "def plot_data(C1, C2):\n",
        "    plt.scatter([x[0] for x in C1], [x[1] for x in C1], c='r', marker='o')\n",
        "    plt.scatter([x[0] for x in C2], [x[1] for x in C2], c='b', marker='x')\n",
        "    plt.xlabel('Attribute x')\n",
        "    plt.ylabel('attribute y')\n",
        "    plt.legend(['C1', 'C2'])\n",
        "    plt.xlim(-1, 5)\n",
        "    plt.ylim(-1, 5)\n",
        "    plt.show()"
      ]
    },
    {
      "cell_type": "code",
      "execution_count": 18,
      "metadata": {},
      "outputs": [],
      "source": [
        "#Problem #2b\n",
        "# Get threshold values from user\n",
        "def get_thresholds():\n",
        "    while True:\n",
        "        thx = input(\"Enter threshold for attribute x (or 'x' to exit): \")\n",
        "        if thx == 'x':\n",
        "            return thx, thx\n",
        "        try:\n",
        "            thx = float(thx)\n",
        "            break\n",
        "        except ValueError:\n",
        "            print(\"Invalid input. Please enter a number.\")\n",
        "    while True:\n",
        "        thy = input(\"Enter threshold for attribute y (or 'x' to exit): \")\n",
        "        if thy == 'x':\n",
        "            return thx, thy\n",
        "        try:\n",
        "            thy = float(thy)\n",
        "            break\n",
        "        except ValueError:\n",
        "            print(\"Invalid input. Please enter a number.\")\n",
        "    return thx, thy"
      ]
    },
    {
      "cell_type": "code",
      "execution_count": 13,
      "metadata": {},
      "outputs": [],
      "source": [
        "# Classify data points based on thresholds\n",
        "def classify(C1, C2, thx, thy):\n",
        "    C1_classified = []\n",
        "    C2_classified = []\n",
        "    for x, y in C1:\n",
        "        if x >= thx and y >= thy:\n",
        "            C1_classified.append((x, y))\n",
        "        else:\n",
        "            C2_classified.append((x, y))\n",
        "    for x, y in C2:\n",
        "        if x >= thx and y >= thy:\n",
        "            C1_classified.append((x, y))\n",
        "        else:\n",
        "            C2_classified.append((x, y))\n",
        "    return C1_classified, C2_classified"
      ]
    },
    {
      "cell_type": "code",
      "execution_count": 14,
      "metadata": {},
      "outputs": [],
      "source": [
        "# Calculate classification accuracy\n",
        "def accuracy (len(C1_classified) + len(C2) - len(C1))\n",
        "total = len(C1) + len(C2)\n",
        "return correct / total"
      ]
    },
    {
      "cell_type": "code",
      "execution_count": 31,
      "metadata": {},
      "outputs": [
        {
          "ename": "TypeError",
          "evalue": "'float' object is not callable",
          "output_type": "error",
          "traceback": [
            "\u001b[0;31m---------------------------------------------------------------------------\u001b[0m",
            "\u001b[0;31mTypeError\u001b[0m                                 Traceback (most recent call last)",
            "Cell \u001b[0;32mIn[31], line 13\u001b[0m\n\u001b[1;32m     11\u001b[0m     \u001b[39mbreak\u001b[39;00m\n\u001b[1;32m     12\u001b[0m C1_classified, C2_classified \u001b[39m=\u001b[39m classify(C1, C2, thx, thy)\n\u001b[0;32m---> 13\u001b[0m accuracy \u001b[39m=\u001b[39m accuracy(C1_classified, C2_classified, C1, C2)\n\u001b[1;32m     14\u001b[0m \u001b[39mprint\u001b[39m(\u001b[39m\"\u001b[39m\u001b[39mAccuracy:\u001b[39m\u001b[39m\"\u001b[39m, accuracy)\n\u001b[1;32m     15\u001b[0m plot_threshold(C1_classified, C2_classified, thx, thy)\n",
            "\u001b[0;31mTypeError\u001b[0m: 'float' object is not callable"
          ]
        }
      ],
      "source": [
        "# Plot data points with threshold lines\n",
        "def plot_threshold(C1_classified, C2_classified, thx, thy):\n",
        "    plot_data(C1_classified, C2_classified)\n",
        "    plt.axvline(x=thx, color='k', linestyle='--')\n",
        "    plt.axhline(y=thy, color='k', linestyle='--')\n",
        "    plot_data(C1, C2)\n",
        "\n",
        "while True:\n",
        "    thx, thy = get_thresholds()\n",
        "    if thx == 'x' or thy == 'x':\n",
        "        break\n",
        "    C1_classified, C2_classified = classify(C1, C2, thx, thy)\n",
        "    accuracy = accuracy(C1_classified, C2_classified, C1, C2)\n",
        "    print(\"Accuracy:\", accuracy)\n",
        "    plot_threshold(C1_classified, C2_classified, thx, thy)\n",
        "\n",
        "\n",
        "#"
      ]
    }
  ],
  "metadata": {
    "colab": {
      "authorship_tag": "ABX9TyPTkyvoiX+coChvahI0BBdu",
      "include_colab_link": true,
      "provenance": []
    },
    "kernelspec": {
      "display_name": "py38",
      "language": "python",
      "name": "python3"
    },
    "language_info": {
      "codemirror_mode": {
        "name": "ipython",
        "version": 3
      },
      "file_extension": ".py",
      "mimetype": "text/x-python",
      "name": "python",
      "nbconvert_exporter": "python",
      "pygments_lexer": "ipython3",
      "version": "3.8.13"
    },
    "vscode": {
      "interpreter": {
        "hash": "72e8e4718b0ebbcacc83b3cdbf49691d1a12cdddc3517f2cb0a10a077856eb8a"
      }
    }
  },
  "nbformat": 4,
  "nbformat_minor": 0
}
