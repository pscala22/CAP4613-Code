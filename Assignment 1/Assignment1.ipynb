{
 "cells": [
  {
   "cell_type": "code",
   "execution_count": 1,
   "metadata": {},
   "outputs": [
    {
     "data": {
      "text/plain": [
       "'\\nPaul Scala\\nZ23561522\\nCOP4613\\nJanuary 23 2023\\nAssignment 1\\nProblem 1\\n'"
      ]
     },
     "execution_count": 1,
     "metadata": {},
     "output_type": "execute_result"
    }
   ],
   "source": [
    "\"\"\"\n",
    "Paul Scala\n",
    "Z23561522\n",
    "COP4613\n",
    "January 23 2023\n",
    "Assignment 1\n",
    "Problem 1\n",
    "\"\"\""
   ]
  },
  {
   "cell_type": "code",
   "execution_count": 2,
   "metadata": {},
   "outputs": [
    {
     "data": {
      "image/png": "[encoded data removed]",
      "text/plain": [
       "<Figure size 640x480 with 1 Axes>"
      ]
     },
     "metadata": {},
     "output_type": "display_data"
    }
   ],
   "source": [
    "#Problem 1a\n",
    "import matplotlib.pyplot as plt\n",
    "\n",
    "x = [0, 0, 1, 1]\n",
    "y = [0, 1, 0, 1]\n",
    "\n",
    "plt.scatter(x, y)\n",
    "plt.xlabel('x')\n",
    "plt.ylabel('y')\n",
    "plt.title('Input Data Samples')\n",
    "plt.show()"
   ]
  },
  {
   "cell_type": "code",
   "execution_count": 3,
   "metadata": {},
   "outputs": [],
   "source": [
    "#Problem #1b\n",
    "def and_operation(x, y):\n",
    "    if x == 1 and y == 1:\n",
    "        return 1\n",
    "    else:\n",
    "        return 0"
   ]
  },
  {
   "cell_type": "code",
   "execution_count": 4,
   "metadata": {},
   "outputs": [],
   "source": [
    "# Problem #1c\n",
    "def or_operation(x, y):\n",
    "    if x == 1 or y == 1:\n",
    "        return 1\n",
    "    else:\n",
    "        return 0\n",
    "\n",
    "def xor_operation(x, y):\n",
    "    if x != y:\n",
    "        return 1\n",
    "    else:\n",
    "        return 0"
   ]
  },
  {
   "cell_type": "code",
   "execution_count": 5,
   "metadata": {},
   "outputs": [],
   "source": [
    "#Problem #1d & Problem #1e  \n",
    "data = [(0, 0), (0, 1), (1, 0), (1, 1)]\n",
    "and_results = []\n",
    "or_results = []\n",
    "xor_results = []\n",
    "\n",
    "for x, y in data:\n",
    "    and_results.append(and_operation(x, y))\n",
    "    or_results.append(or_operation(x, y))\n",
    "    xor_results.append(xor_operation(x, y))"
   ]
  },
  {
   "cell_type": "code",
   "execution_count": 6,
   "metadata": {},
   "outputs": [
    {
     "name": "stdout",
     "output_type": "stream",
     "text": [
      "AND Results: [0, 0, 0, 1]\n",
      "OR Results: [0, 1, 1, 1]\n",
      "XOR Results: [0, 1, 1, 0]\n"
     ]
    }
   ],
   "source": [
    "#Problem #1f\n",
    "print(\"AND Results:\", and_results)\n",
    "print(\"OR Results:\", or_results)\n",
    "print(\"XOR Results:\", xor_results)"
   ]
  },
  {
   "cell_type": "code",
   "execution_count": 7,
   "metadata": {},
   "outputs": [
    {
     "data": {
      "text/plain": [
       "'\\nPaul Scala\\nZ23561522\\nCOP4613\\nJanuary 23 2023\\nAssignment 1\\nProblem 2\\n'"
      ]
     },
     "execution_count": 7,
     "metadata": {},
     "output_type": "execute_result"
    }
   ],
   "source": [
    "\"\"\"\n",
    "Paul Scala\n",
    "Z23561522\n",
    "COP4613\n",
    "January 23 2023\n",
    "Assignment 1\n",
    "Problem 2\n",
    "\"\"\""
   ]
  },
  {
   "cell_type": "code",
   "execution_count": 8,
   "metadata": {},
   "outputs": [],
   "source": [
    "# Define the data samples\n",
    "C1 = [(2, 3), (3, 3), (3, 4), (1, 4), (4, 1), (4, 3)]\n",
    "C2 = [(0, 0), (0, 3), (1, 1), (1, 2), (2, 2), (2, 1)]"
   ]
  },
  {
   "cell_type": "code",
   "execution_count": 9,
   "metadata": {},
   "outputs": [
    {
     "data": {
      "image/png": "[encoded data removed]",
      "text/plain": [
       "<Figure size 640x480 with 1 Axes>"
      ]
     },
     "metadata": {},
     "output_type": "display_data"
    }
   ],
   "source": [
    "# Plot the data samples\n",
    "plt.scatter([x[0] for x in C1], [x[1] for x in C1], c='r', marker='o', label='C1')\n",
    "plt.scatter([x[0] for x in C2], [x[1] for x in C2], c='b', marker='x', label='C2')\n",
    "plt.xlabel('x')\n",
    "plt.ylabel('y')\n",
    "plt.legend()\n",
    "plt.show()"
   ]
  },
  {
   "cell_type": "code",
   "execution_count": 10,
   "metadata": {},
   "outputs": [],
   "source": [
    "# Function for threshold entry\n",
    "def get_thresholds():\n",
    "    while True:\n",
    "        thx = input(\"Enter threshold for x: \")\n",
    "        if thx == 'x': # exit if 'x' is entered\n",
    "            return 'x'\n",
    "        thy = input(\"Enter threshold for y: \")\n",
    "        if thy == 'x': # exit if 'x' is entered\n",
    "            return 'x'\n",
    "        try:\n",
    "            thx = float(thx)\n",
    "            thy = float(thy)\n",
    "            return thx, thy\n",
    "        except ValueError: # Handle non-numeric input\n",
    "            print(\"Please enter a number or 'x' to exit.\")"
   ]
  },
  {
   "cell_type": "code",
   "execution_count": 11,
   "metadata": {},
   "outputs": [],
   "source": [
    "# Function for classification\n",
    "def classify(x, y, thx, thy):\n",
    "    if x >= thx and y >= thy:\n",
    "        return 'C1'\n",
    "    else:\n",
    "        return 'C2'"
   ]
  },
  {
   "cell_type": "code",
   "execution_count": 12,
   "metadata": {},
   "outputs": [],
   "source": [
    "# Function for accuracy calculation\n",
    "def calculate_accuracy(C1, C2, thx, thy):\n",
    "    correct = 0\n",
    "    total = len(C1) + len(C2)\n",
    "    for x, y in C1:\n",
    "        if classify(x, y, thx, thy) == 'C1':\n",
    "            correct += 1\n",
    "    for x, y in C2:\n",
    "        if classify(x, y, thx, thy) == 'C2':\n",
    "            correct += 1\n",
    "    return correct / total"
   ]
  },
  {
   "cell_type": "code",
   "execution_count": 13,
   "metadata": {},
   "outputs": [
    {
     "name": "stdout",
     "output_type": "stream",
     "text": [
      "Accuracy: 0.5\n",
      "Accuracy: 0.5\n",
      "Accuracy: 0.5\n"
     ]
    }
   ],
   "source": [
    "# Loop for repeated threshold entry and classification\n",
    "while True:\n",
    "    thresholds = get_thresholds()\n",
    "    if thresholds == 'x':\n",
    "        break\n",
    "    thx, thy = thresholds\n",
    "    accuracy = calculate_accuracy(C1, C2, thx, thy)\n",
    "    print(\"Accuracy:\", accuracy)"
   ]
  },
  {
   "cell_type": "code",
   "execution_count": 14,
   "metadata": {},
   "outputs": [
    {
     "data": {
      "image/png": "[encoded data removed]",
      "text/plain": [
       "<Figure size 640x480 with 1 Axes>"
      ]
     },
     "metadata": {},
     "output_type": "display_data"
    }
   ],
   "source": [
    "# Plot the data samples, the selected thx, and the thx lines\n",
    "plt.scatter([x[0] for x in C1], [x[1] for x in C1], c='r', marker='o', label='C1')\n",
    "plt.scatter([x[0] for x in C2], [x[1] for x in C2], c='b', marker='x', label='C2')\n",
    "plt.axvline(x=thx, c='g', label='thx')\n",
    "plt.axhline(y=thy, c='y', label='thy')\n",
    "plt.xlabel('x')\n",
    "plt.ylabel('y')\n",
    "plt.legend()\n",
    "plt.show()"
   ]
  }
 ],
 "metadata": {
  "kernelspec": {
   "display_name": "base",
   "language": "python",
   "name": "python3"
  },
  "language_info": {
   "codemirror_mode": {
    "name": "ipython",
    "version": 3
   },
   "file_extension": ".py",
   "mimetype": "text/x-python",
   "name": "python",
   "nbconvert_exporter": "python",
   "pygments_lexer": "ipython3",
   "version": "3.9.13"
  },
  "orig_nbformat": 4,
  "vscode": {
   "interpreter": {
    "hash": "40d3a090f54c6569ab1632332b64b2c03c39dcf918b08424e98f38b5ae0af88f"
   }
  }
 },
 "nbformat": 4,
 "nbformat_minor": 2
}
